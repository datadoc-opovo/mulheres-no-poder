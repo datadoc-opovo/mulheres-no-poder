{
 "cells": [
  {
   "cell_type": "markdown",
   "metadata": {
    "id": "6bWtHhYUlDgi"
   },
   "source": [
    "## Ceará ocupa a 24 posição nacional, em representatividade de gênero na política\n",
    "\n",
    "Análise de dados de pessoas eleitas em eleições gerais nacionais, entre 1998 e 2018, com base em dados do repositório [Brasilian Elections Python | CEPESPdata](https://github.com/Cepesp-Fgv/cepesp-python).\n",
    "\n",
    "Esta análise faz parte desta [reportagem]()"
   ]
  },
  {
   "cell_type": "markdown",
   "metadata": {
    "id": "2DcVyQgkuC6J"
   },
   "source": [
    "### Coleta de Dados"
   ]
  },
  {
   "cell_type": "code",
   "execution_count": 1,
   "metadata": {
    "colab": {
     "base_uri": "https://localhost:8080/"
    },
    "id": "agRW9oPalZ9d",
    "outputId": "a1effeed-77da-4f8c-ebff-d9ed4b8c3002"
   },
   "outputs": [
    {
     "name": "stdout",
     "output_type": "stream",
     "text": [
      "Requirement already satisfied: electionsBR in /home/alexandre/anaconda3/envs/credos/lib/python3.7/site-packages (0.0.5)\n",
      "Requirement already satisfied: requests in /home/alexandre/anaconda3/envs/credos/lib/python3.7/site-packages (from electionsBR) (2.27.1)\n",
      "Requirement already satisfied: pandas in /home/alexandre/anaconda3/envs/credos/lib/python3.7/site-packages (from electionsBR) (1.2.4)\n",
      "Requirement already satisfied: python-dateutil>=2.7.3 in /home/alexandre/anaconda3/envs/credos/lib/python3.7/site-packages (from pandas->electionsBR) (2.8.1)\n",
      "Requirement already satisfied: pytz>=2017.3 in /home/alexandre/anaconda3/envs/credos/lib/python3.7/site-packages (from pandas->electionsBR) (2021.1)\n",
      "Requirement already satisfied: numpy>=1.16.5 in /home/alexandre/anaconda3/envs/credos/lib/python3.7/site-packages (from pandas->electionsBR) (1.20.1)\n",
      "Requirement already satisfied: certifi>=2017.4.17 in /home/alexandre/anaconda3/envs/credos/lib/python3.7/site-packages (from requests->electionsBR) (2020.12.5)\n",
      "Requirement already satisfied: urllib3<1.27,>=1.21.1 in /home/alexandre/anaconda3/envs/credos/lib/python3.7/site-packages (from requests->electionsBR) (1.26.4)\n",
      "Requirement already satisfied: charset-normalizer~=2.0.0 in /home/alexandre/anaconda3/envs/credos/lib/python3.7/site-packages (from requests->electionsBR) (2.0.12)\n",
      "Requirement already satisfied: idna<4,>=2.5 in /home/alexandre/anaconda3/envs/credos/lib/python3.7/site-packages (from requests->electionsBR) (2.10)\n",
      "Requirement already satisfied: six>=1.5 in /home/alexandre/anaconda3/envs/credos/lib/python3.7/site-packages (from python-dateutil>=2.7.3->pandas->electionsBR) (1.15.0)\n",
      "\u001b[33mWARNING: You are using pip version 22.0.3; however, version 22.0.4 is available.\n",
      "You should consider upgrading via the '/home/alexandre/anaconda3/envs/credos/bin/python -m pip install --upgrade pip' command.\u001b[0m\u001b[33m\n",
      "\u001b[0m"
     ]
    }
   ],
   "source": [
    "!pip install electionsBR"
   ]
  },
  {
   "cell_type": "code",
   "execution_count": 2,
   "metadata": {
    "id": "rXklbzBtlak9"
   },
   "outputs": [],
   "source": [
    "import pandas as pd\n",
    "from electionsBR import *"
   ]
  },
  {
   "cell_type": "code",
   "execution_count": 3,
   "metadata": {
    "id": "KAjYgE2Nlw_1"
   },
   "outputs": [],
   "source": [
    "cargos = ['Presidente', 'Governador', 'Senador', 'Deputado Federal', 'Deputado Estadual']"
   ]
  },
  {
   "cell_type": "code",
   "execution_count": 4,
   "metadata": {
    "id": "_IfAVnSMk_lD"
   },
   "outputs": [],
   "source": [
    "# Coleta de dados:\n",
    "\n",
    "dfs = []\n",
    "for y in range(1998,2022,4):\n",
    "    for c in cargos:\n",
    "        df = get_candidates(year=y, position=c)\n",
    "        df['pos'] = c\n",
    "        dfs.append(df)"
   ]
  },
  {
   "cell_type": "code",
   "execution_count": 5,
   "metadata": {
    "id": "ljNi-txolrto"
   },
   "outputs": [],
   "source": [
    "dados = pd.concat(dfs)"
   ]
  },
  {
   "cell_type": "code",
   "execution_count": 6,
   "metadata": {
    "colab": {
     "base_uri": "https://localhost:8080/",
     "height": 369
    },
    "id": "R_4S2TGEqMeG",
    "outputId": "96a63cee-1322-4885-bf2e-cdb6079a3c85"
   },
   "outputs": [
    {
     "data": {
      "text/html": [
       "<div>\n",
       "<style scoped>\n",
       "    .dataframe tbody tr th:only-of-type {\n",
       "        vertical-align: middle;\n",
       "    }\n",
       "\n",
       "    .dataframe tbody tr th {\n",
       "        vertical-align: top;\n",
       "    }\n",
       "\n",
       "    .dataframe thead th {\n",
       "        text-align: right;\n",
       "    }\n",
       "</style>\n",
       "<table border=\"1\" class=\"dataframe\">\n",
       "  <thead>\n",
       "    <tr style=\"text-align: right;\">\n",
       "      <th></th>\n",
       "      <th>ANO_ELEICAO</th>\n",
       "      <th>NUM_TURNO</th>\n",
       "      <th>DESCRICAO_ELEICAO</th>\n",
       "      <th>SIGLA_UF</th>\n",
       "      <th>SIGLA_UE</th>\n",
       "      <th>DESCRICAO_UE</th>\n",
       "      <th>CODIGO_CARGO</th>\n",
       "      <th>DESCRICAO_CARGO</th>\n",
       "      <th>NOME_CANDIDATO</th>\n",
       "      <th>SEQUENCIAL_CANDIDATO</th>\n",
       "      <th>...</th>\n",
       "      <th>CODIGO_NACIONALIDADE</th>\n",
       "      <th>DESCRICAO_NACIONALIDADE</th>\n",
       "      <th>SIGLA_UF_NASCIMENTO</th>\n",
       "      <th>CODIGO_MUNICIPIO_NASCIMENTO</th>\n",
       "      <th>NOME_MUNICIPIO_NASCIMENTO</th>\n",
       "      <th>DESPESA_MAX_CAMPANHA</th>\n",
       "      <th>COD_SIT_TOT_TURNO</th>\n",
       "      <th>DESC_SIT_TOT_TURNO</th>\n",
       "      <th>EMAIL_CANDIDATO</th>\n",
       "      <th>pos</th>\n",
       "    </tr>\n",
       "  </thead>\n",
       "  <tbody>\n",
       "    <tr>\n",
       "      <th>0</th>\n",
       "      <td>1998</td>\n",
       "      <td>1</td>\n",
       "      <td>ELEICOES 1998</td>\n",
       "      <td>BR</td>\n",
       "      <td>BR</td>\n",
       "      <td>BRASIL</td>\n",
       "      <td>1</td>\n",
       "      <td>PRESIDENTE</td>\n",
       "      <td>LUIZ INÁCIO LULA DA SILVA</td>\n",
       "      <td>-1</td>\n",
       "      <td>...</td>\n",
       "      <td>1</td>\n",
       "      <td>BRASILEIRA</td>\n",
       "      <td>PE</td>\n",
       "      <td>-1</td>\n",
       "      <td>GARANHUNS</td>\n",
       "      <td>-1</td>\n",
       "      <td>4</td>\n",
       "      <td>NÃO ELEITO</td>\n",
       "      <td>#NE#</td>\n",
       "      <td>Presidente</td>\n",
       "    </tr>\n",
       "    <tr>\n",
       "      <th>1</th>\n",
       "      <td>1998</td>\n",
       "      <td>1</td>\n",
       "      <td>ELEICOES 1998</td>\n",
       "      <td>BR</td>\n",
       "      <td>BR</td>\n",
       "      <td>BRASIL</td>\n",
       "      <td>1</td>\n",
       "      <td>PRESIDENTE</td>\n",
       "      <td>JOSÉ MARIA DE ALMEIDA</td>\n",
       "      <td>-1</td>\n",
       "      <td>...</td>\n",
       "      <td>1</td>\n",
       "      <td>BRASILEIRA</td>\n",
       "      <td>SP</td>\n",
       "      <td>-1</td>\n",
       "      <td>SANTA ALBERTINA</td>\n",
       "      <td>-1</td>\n",
       "      <td>4</td>\n",
       "      <td>NÃO ELEITO</td>\n",
       "      <td>#NE#</td>\n",
       "      <td>Presidente</td>\n",
       "    </tr>\n",
       "    <tr>\n",
       "      <th>2</th>\n",
       "      <td>1998</td>\n",
       "      <td>1</td>\n",
       "      <td>ELEICOES 1998</td>\n",
       "      <td>BR</td>\n",
       "      <td>BR</td>\n",
       "      <td>BRASIL</td>\n",
       "      <td>1</td>\n",
       "      <td>PRESIDENTE</td>\n",
       "      <td>THEREZA TINAJERO RUIZ</td>\n",
       "      <td>-1</td>\n",
       "      <td>...</td>\n",
       "      <td>1</td>\n",
       "      <td>BRASILEIRA</td>\n",
       "      <td>SP</td>\n",
       "      <td>-1</td>\n",
       "      <td>SAO PAULO</td>\n",
       "      <td>-1</td>\n",
       "      <td>4</td>\n",
       "      <td>NÃO ELEITO</td>\n",
       "      <td>#NE#</td>\n",
       "      <td>Presidente</td>\n",
       "    </tr>\n",
       "    <tr>\n",
       "      <th>3</th>\n",
       "      <td>1998</td>\n",
       "      <td>1</td>\n",
       "      <td>ELEICOES 1998</td>\n",
       "      <td>BR</td>\n",
       "      <td>BR</td>\n",
       "      <td>BRASIL</td>\n",
       "      <td>1</td>\n",
       "      <td>PRESIDENTE</td>\n",
       "      <td>SERGIO BUENO</td>\n",
       "      <td>-1</td>\n",
       "      <td>...</td>\n",
       "      <td>1</td>\n",
       "      <td>BRASILEIRA</td>\n",
       "      <td>SP</td>\n",
       "      <td>-1</td>\n",
       "      <td>SAO PAULO</td>\n",
       "      <td>-1</td>\n",
       "      <td>4</td>\n",
       "      <td>NÃO ELEITO</td>\n",
       "      <td>#NE#</td>\n",
       "      <td>Presidente</td>\n",
       "    </tr>\n",
       "    <tr>\n",
       "      <th>4</th>\n",
       "      <td>1998</td>\n",
       "      <td>1</td>\n",
       "      <td>ELEICOES 1998</td>\n",
       "      <td>BR</td>\n",
       "      <td>BR</td>\n",
       "      <td>BRASIL</td>\n",
       "      <td>1</td>\n",
       "      <td>PRESIDENTE</td>\n",
       "      <td>CIRO FERREIRA GOMES</td>\n",
       "      <td>-1</td>\n",
       "      <td>...</td>\n",
       "      <td>1</td>\n",
       "      <td>BRASILEIRA</td>\n",
       "      <td>SP</td>\n",
       "      <td>-1</td>\n",
       "      <td>PINDAMONHANGABA</td>\n",
       "      <td>-1</td>\n",
       "      <td>4</td>\n",
       "      <td>NÃO ELEITO</td>\n",
       "      <td>#NE#</td>\n",
       "      <td>Presidente</td>\n",
       "    </tr>\n",
       "  </tbody>\n",
       "</table>\n",
       "<p>5 rows × 45 columns</p>\n",
       "</div>"
      ],
      "text/plain": [
       "  ANO_ELEICAO NUM_TURNO DESCRICAO_ELEICAO SIGLA_UF SIGLA_UE DESCRICAO_UE  \\\n",
       "0        1998         1     ELEICOES 1998       BR       BR       BRASIL   \n",
       "1        1998         1     ELEICOES 1998       BR       BR       BRASIL   \n",
       "2        1998         1     ELEICOES 1998       BR       BR       BRASIL   \n",
       "3        1998         1     ELEICOES 1998       BR       BR       BRASIL   \n",
       "4        1998         1     ELEICOES 1998       BR       BR       BRASIL   \n",
       "\n",
       "  CODIGO_CARGO DESCRICAO_CARGO             NOME_CANDIDATO  \\\n",
       "0            1      PRESIDENTE  LUIZ INÁCIO LULA DA SILVA   \n",
       "1            1      PRESIDENTE      JOSÉ MARIA DE ALMEIDA   \n",
       "2            1      PRESIDENTE      THEREZA TINAJERO RUIZ   \n",
       "3            1      PRESIDENTE               SERGIO BUENO   \n",
       "4            1      PRESIDENTE        CIRO FERREIRA GOMES   \n",
       "\n",
       "  SEQUENCIAL_CANDIDATO  ... CODIGO_NACIONALIDADE DESCRICAO_NACIONALIDADE  \\\n",
       "0                   -1  ...                    1              BRASILEIRA   \n",
       "1                   -1  ...                    1              BRASILEIRA   \n",
       "2                   -1  ...                    1              BRASILEIRA   \n",
       "3                   -1  ...                    1              BRASILEIRA   \n",
       "4                   -1  ...                    1              BRASILEIRA   \n",
       "\n",
       "  SIGLA_UF_NASCIMENTO CODIGO_MUNICIPIO_NASCIMENTO NOME_MUNICIPIO_NASCIMENTO  \\\n",
       "0                  PE                          -1                 GARANHUNS   \n",
       "1                  SP                          -1           SANTA ALBERTINA   \n",
       "2                  SP                          -1                 SAO PAULO   \n",
       "3                  SP                          -1                 SAO PAULO   \n",
       "4                  SP                          -1           PINDAMONHANGABA   \n",
       "\n",
       "  DESPESA_MAX_CAMPANHA COD_SIT_TOT_TURNO DESC_SIT_TOT_TURNO EMAIL_CANDIDATO  \\\n",
       "0                   -1                 4         NÃO ELEITO            #NE#   \n",
       "1                   -1                 4         NÃO ELEITO            #NE#   \n",
       "2                   -1                 4         NÃO ELEITO            #NE#   \n",
       "3                   -1                 4         NÃO ELEITO            #NE#   \n",
       "4                   -1                 4         NÃO ELEITO            #NE#   \n",
       "\n",
       "          pos  \n",
       "0  Presidente  \n",
       "1  Presidente  \n",
       "2  Presidente  \n",
       "3  Presidente  \n",
       "4  Presidente  \n",
       "\n",
       "[5 rows x 45 columns]"
      ]
     },
     "execution_count": 6,
     "metadata": {},
     "output_type": "execute_result"
    }
   ],
   "source": [
    "dados.head()"
   ]
  },
  {
   "cell_type": "code",
   "execution_count": 7,
   "metadata": {
    "colab": {
     "base_uri": "https://localhost:8080/"
    },
    "id": "lwnzR5koqNKF",
    "outputId": "22fc37fd-3e2a-4c55-8bd7-33509c114c19"
   },
   "outputs": [
    {
     "name": "stdout",
     "output_type": "stream",
     "text": [
      "<class 'pandas.core.frame.DataFrame'>\n",
      "Int64Index: 128047 entries, 0 to 18921\n",
      "Data columns (total 45 columns):\n",
      " #   Column                          Non-Null Count   Dtype \n",
      "---  ------                          --------------   ----- \n",
      " 0   ANO_ELEICAO                     128047 non-null  object\n",
      " 1   NUM_TURNO                       128047 non-null  object\n",
      " 2   DESCRICAO_ELEICAO               128047 non-null  object\n",
      " 3   SIGLA_UF                        128047 non-null  object\n",
      " 4   SIGLA_UE                        128047 non-null  object\n",
      " 5   DESCRICAO_UE                    128047 non-null  object\n",
      " 6   CODIGO_CARGO                    128047 non-null  object\n",
      " 7   DESCRICAO_CARGO                 128047 non-null  object\n",
      " 8   NOME_CANDIDATO                  128047 non-null  object\n",
      " 9   SEQUENCIAL_CANDIDATO            128047 non-null  object\n",
      " 10  NUMERO_CANDIDATO                128039 non-null  object\n",
      " 11  CPF_CANDIDATO                   128047 non-null  object\n",
      " 12  NOME_URNA_CANDIDATO             127498 non-null  object\n",
      " 13  COD_SITUACAO_CANDIDATURA        128046 non-null  object\n",
      " 14  DES_SITUACAO_CANDIDATURA        128046 non-null  object\n",
      " 15  NUMERO_PARTIDO                  128046 non-null  object\n",
      " 16  SIGLA_PARTIDO                   128043 non-null  object\n",
      " 17  NOME_PARTIDO                    128046 non-null  object\n",
      " 18  CODIGO_LEGENDA                  128043 non-null  object\n",
      " 19  SIGLA_LEGENDA                   124560 non-null  object\n",
      " 20  COMPOSICAO_LEGENDA              127987 non-null  object\n",
      " 21  NOME_COLIGACAO                  124560 non-null  object\n",
      " 22  CODIGO_OCUPACAO                 128046 non-null  object\n",
      " 23  DESCRICAO_OCUPACAO              128045 non-null  object\n",
      " 24  DATA_NASCIMENTO                 127462 non-null  object\n",
      " 25  NUM_TITULO_ELEITORAL_CANDIDATO  128045 non-null  object\n",
      " 26  IDADE_DATA_ELEICAO              128045 non-null  object\n",
      " 27  CODIGO_SEXO                     128045 non-null  object\n",
      " 28  DESCRICAO_SEXO                  128045 non-null  object\n",
      " 29  COD_GRAU_INSTRUCAO              128045 non-null  object\n",
      " 30  DESCRICAO_GRAU_INSTRUCAO        128045 non-null  object\n",
      " 31  CODIGO_ESTADO_CIVIL             128045 non-null  object\n",
      " 32  DESCRICAO_ESTADO_CIVIL          128045 non-null  object\n",
      " 33  CODIGO_COR_RACA                 128047 non-null  object\n",
      " 34  DESCRICAO_COR_RACA              128047 non-null  object\n",
      " 35  CODIGO_NACIONALIDADE            128045 non-null  object\n",
      " 36  DESCRICAO_NACIONALIDADE         128045 non-null  object\n",
      " 37  SIGLA_UF_NASCIMENTO             127132 non-null  object\n",
      " 38  CODIGO_MUNICIPIO_NASCIMENTO     128045 non-null  object\n",
      " 39  NOME_MUNICIPIO_NASCIMENTO       128016 non-null  object\n",
      " 40  DESPESA_MAX_CAMPANHA            128045 non-null  object\n",
      " 41  COD_SIT_TOT_TURNO               128047 non-null  object\n",
      " 42  DESC_SIT_TOT_TURNO              128047 non-null  object\n",
      " 43  EMAIL_CANDIDATO                 128047 non-null  object\n",
      " 44  pos                             128047 non-null  object\n",
      "dtypes: object(45)\n",
      "memory usage: 44.9+ MB\n"
     ]
    }
   ],
   "source": [
    "dados.info()"
   ]
  },
  {
   "cell_type": "code",
   "execution_count": 8,
   "metadata": {
    "id": "J0pYwbNxq8PV"
   },
   "outputs": [],
   "source": [
    "categoria = {'SUPLENTE':'Não Eleito',\n",
    " 'NÃO ELEITO':'Não Eleito',\n",
    " '#NULO#':'Não Eleito',\n",
    " 'ELEITO':'Eleito',\n",
    " 'ELEITO POR QP':'Eleito',\n",
    " 'REGISTRO NEGADO ANTES DA ELEIÇÃO':'Não Eleito',\n",
    " 'ELEITO POR MEDIA':'Eleito',\n",
    " 'RENÚNCIA/FALECIMENTO/CASSAÇÃO ANTES A ELEIÇÃO':'Não Eleito',\n",
    " '2º TURNO':'Não Eleito',\n",
    " 'INDEFERIDO COM RECURSO':'Não Eleito',\n",
    " 'REGISTRO NEGADO APÓS A ELEIÇÃO':'Não Eleito',\n",
    " 'RENÚNCIA/FALECIMENTO/CASSAÇÃO APÓS A ELEIÇÃO':'Não Eleito',\n",
    " 'CASSADO COM RECURSO':'Não Eleito'}"
   ]
  },
  {
   "cell_type": "code",
   "execution_count": 9,
   "metadata": {
    "id": "_zS9YCkorHnz"
   },
   "outputs": [],
   "source": [
    "dados['resultado'] = dados['DESC_SIT_TOT_TURNO'].map(categoria)"
   ]
  },
  {
   "cell_type": "code",
   "execution_count": 10,
   "metadata": {
    "colab": {
     "base_uri": "https://localhost:8080/"
    },
    "id": "L8SffsoOrRX9",
    "outputId": "e8874b4d-3203-41cf-c1cf-2ee79ec480d7"
   },
   "outputs": [
    {
     "data": {
      "text/plain": [
       "Index(['SUPERIOR COMPLETO', 'ENSINO MÉDIO COMPLETO', 'SUPERIOR INCOMPLETO',\n",
       "       'ENSINO FUNDAMENTAL COMPLETO', 'MÉDIO COMPLETO',\n",
       "       'ENSINO FUNDAMENTAL INCOMPLETO', 'ENSINO MÉDIO INCOMPLETO',\n",
       "       '2º GRAU COMPLETO', 'FUNDAMENTAL COMPLETO', 'MÉDIO INCOMPLETO',\n",
       "       'FUNDAMENTAL INCOMPLETO', 'NÃO INFORMADO', 'LÊ E ESCREVE',\n",
       "       '2º GRAU INCOMPLETO', '1º GRAU COMPLETO', '1º GRAU INCOMPLETO',\n",
       "       'ANALFABETO'],\n",
       "      dtype='object')"
      ]
     },
     "execution_count": 10,
     "metadata": {},
     "output_type": "execute_result"
    }
   ],
   "source": [
    "dados['DESCRICAO_GRAU_INSTRUCAO'].value_counts().keys()"
   ]
  },
  {
   "cell_type": "code",
   "execution_count": 11,
   "metadata": {
    "id": "5n9PTAO2rVmy"
   },
   "outputs": [],
   "source": [
    "escolaridade = {'SUPERIOR COMPLETO':'Superior',\n",
    " 'ENSINO MÉDIO COMPLETO':'Médio',\n",
    " 'SUPERIOR INCOMPLETO':'Médio',\n",
    " 'ENSINO FUNDAMENTAL COMPLETO':'Fundamental',\n",
    " 'MÉDIO COMPLETO':'Médio',\n",
    " 'ENSINO FUNDAMENTAL INCOMPLETO':'Lê e escreve',\n",
    " 'ENSINO MÉDIO INCOMPLETO':\"Fundamental\",\n",
    " '2º GRAU COMPLETO':\"Médio\",\n",
    " 'FUNDAMENTAL COMPLETO':\"Fundamental\",\n",
    " 'MÉDIO INCOMPLETO':\"Fundamental\",\n",
    " 'FUNDAMENTAL INCOMPLETO':\"Lê e escreve\",\n",
    " 'NÃO INFORMADO':\"Não informado\",\n",
    " 'LÊ E ESCREVE':\"Lê e escreve\",\n",
    " '2º GRAU INCOMPLETO':'Fundamental',\n",
    " '1º GRAU COMPLETO':'Fundamental',\n",
    " '1º GRAU INCOMPLETO':'Lê e escreve',\n",
    " 'ANALFABETO':\"Analfabeto\"\n",
    "}"
   ]
  },
  {
   "cell_type": "code",
   "execution_count": 12,
   "metadata": {
    "id": "7EMyxgBxrZMX"
   },
   "outputs": [],
   "source": [
    "dados['escolaridade'] = dados['DESCRICAO_GRAU_INSTRUCAO'].map(escolaridade)"
   ]
  },
  {
   "cell_type": "code",
   "execution_count": 13,
   "metadata": {
    "id": "WgqcCSYlrJ5a"
   },
   "outputs": [],
   "source": [
    "colunas = ['ANO_ELEICAO','SIGLA_UF','DESCRICAO_ELEICAO','DESCRICAO_CARGO','NOME_CANDIDATO','NOME_URNA_CANDIDATO','DES_SITUACAO_CANDIDATURA',\n",
    "'SIGLA_PARTIDO','COMPOSICAO_LEGENDA','NOME_COLIGACAO','DATA_NASCIMENTO', 'DESCRICAO_SEXO', 'escolaridade','DESCRICAO_COR_RACA','NOME_MUNICIPIO_NASCIMENTO','DESC_SIT_TOT_TURNO','resultado'\n",
    "]"
   ]
  },
  {
   "cell_type": "code",
   "execution_count": 14,
   "metadata": {
    "id": "BO9GH7rbrOZy"
   },
   "outputs": [],
   "source": [
    "dados.filter(colunas).to_csv('arquivos_gerados/dados_eleicoes.csv')"
   ]
  },
  {
   "cell_type": "markdown",
   "metadata": {
    "id": "C9ukcSBi9wck"
   },
   "source": [
    "### Variáveis de referência"
   ]
  },
  {
   "cell_type": "code",
   "execution_count": 15,
   "metadata": {
    "id": "UkAw1C2a2GUd"
   },
   "outputs": [],
   "source": [
    "eleitos = dados.loc[dados.resultado==\"Eleito\"]"
   ]
  },
  {
   "cell_type": "code",
   "execution_count": 16,
   "metadata": {
    "id": "Z3ipjaQG9n6T"
   },
   "outputs": [],
   "source": [
    "eleitas = eleitos.loc[eleitos.DESCRICAO_SEXO==\"FEMININO\"]"
   ]
  },
  {
   "cell_type": "code",
   "execution_count": 17,
   "metadata": {
    "id": "YuaurDhC2G9A"
   },
   "outputs": [],
   "source": [
    "eleitos_ce = dados.loc[(dados.SIGLA_UF == 'CE')  & (dados.resultado==\"Eleito\")]"
   ]
  },
  {
   "cell_type": "code",
   "execution_count": 18,
   "metadata": {
    "id": "wvcDfSRm2YFh"
   },
   "outputs": [],
   "source": [
    "mulheres_2018 = dados.loc[(dados.DESCRICAO_SEXO == \"FEMININO\")\n",
    "                          & (dados.ANO_ELEICAO == \"2018\")      \n",
    "                          ]"
   ]
  },
  {
   "cell_type": "code",
   "execution_count": 19,
   "metadata": {
    "id": "X98SpyIV-xD7"
   },
   "outputs": [],
   "source": [
    "mulheres_2018_eleitas = mulheres_2018.loc[mulheres_2018.resultado == \"Eleito\"]"
   ]
  },
  {
   "cell_type": "code",
   "execution_count": 20,
   "metadata": {
    "id": "CZ9dqxwH8dnZ"
   },
   "outputs": [],
   "source": [
    "eleitas_ce = eleitos_ce.loc[eleitos_ce.DESCRICAO_SEXO == \"FEMININO\"]"
   ]
  },
  {
   "cell_type": "markdown",
   "metadata": {
    "id": "I6Xnl8XV1jkA"
   },
   "source": [
    "### Proporção entre homens e mulheres eleitas no Ceará, por Cargo/Eleição:\n",
    "Gráfico: https://public.flourish.studio/visualisation/9289780/ "
   ]
  },
  {
   "cell_type": "code",
   "execution_count": 21,
   "metadata": {
    "colab": {
     "base_uri": "https://localhost:8080/",
     "height": 802
    },
    "id": "f3DG6byZ1q1O",
    "outputId": "7e5b8a1c-e60c-407c-d2a3-57ff82a53b7b"
   },
   "outputs": [
    {
     "data": {
      "text/html": [
       "<div>\n",
       "<style scoped>\n",
       "    .dataframe tbody tr th:only-of-type {\n",
       "        vertical-align: middle;\n",
       "    }\n",
       "\n",
       "    .dataframe tbody tr th {\n",
       "        vertical-align: top;\n",
       "    }\n",
       "\n",
       "    .dataframe thead th {\n",
       "        text-align: right;\n",
       "    }\n",
       "</style>\n",
       "<table border=\"1\" class=\"dataframe\">\n",
       "  <thead>\n",
       "    <tr style=\"text-align: right;\">\n",
       "      <th></th>\n",
       "      <th>Ano</th>\n",
       "      <th>Cargo</th>\n",
       "      <th>Mulheres Eleitas</th>\n",
       "      <th>Homens Eleitos</th>\n",
       "    </tr>\n",
       "  </thead>\n",
       "  <tbody>\n",
       "    <tr>\n",
       "      <th>0</th>\n",
       "      <td>1998</td>\n",
       "      <td>DEPUTADO ESTADUAL</td>\n",
       "      <td>4</td>\n",
       "      <td>42</td>\n",
       "    </tr>\n",
       "    <tr>\n",
       "      <th>1</th>\n",
       "      <td>1998</td>\n",
       "      <td>DEPUTADO FEDERAL</td>\n",
       "      <td>0</td>\n",
       "      <td>22</td>\n",
       "    </tr>\n",
       "    <tr>\n",
       "      <th>2</th>\n",
       "      <td>1998</td>\n",
       "      <td>GOVERNADOR</td>\n",
       "      <td>0</td>\n",
       "      <td>1</td>\n",
       "    </tr>\n",
       "    <tr>\n",
       "      <th>3</th>\n",
       "      <td>1998</td>\n",
       "      <td>SENADOR</td>\n",
       "      <td>0</td>\n",
       "      <td>1</td>\n",
       "    </tr>\n",
       "    <tr>\n",
       "      <th>4</th>\n",
       "      <td>2002</td>\n",
       "      <td>DEPUTADO ESTADUAL</td>\n",
       "      <td>8</td>\n",
       "      <td>38</td>\n",
       "    </tr>\n",
       "    <tr>\n",
       "      <th>5</th>\n",
       "      <td>2002</td>\n",
       "      <td>DEPUTADO FEDERAL</td>\n",
       "      <td>0</td>\n",
       "      <td>22</td>\n",
       "    </tr>\n",
       "    <tr>\n",
       "      <th>6</th>\n",
       "      <td>2002</td>\n",
       "      <td>GOVERNADOR</td>\n",
       "      <td>0</td>\n",
       "      <td>1</td>\n",
       "    </tr>\n",
       "    <tr>\n",
       "      <th>7</th>\n",
       "      <td>2002</td>\n",
       "      <td>SENADOR</td>\n",
       "      <td>1</td>\n",
       "      <td>1</td>\n",
       "    </tr>\n",
       "    <tr>\n",
       "      <th>8</th>\n",
       "      <td>2006</td>\n",
       "      <td>DEPUTADO ESTADUAL</td>\n",
       "      <td>2</td>\n",
       "      <td>44</td>\n",
       "    </tr>\n",
       "    <tr>\n",
       "      <th>9</th>\n",
       "      <td>2006</td>\n",
       "      <td>DEPUTADO FEDERAL</td>\n",
       "      <td>1</td>\n",
       "      <td>21</td>\n",
       "    </tr>\n",
       "    <tr>\n",
       "      <th>10</th>\n",
       "      <td>2006</td>\n",
       "      <td>GOVERNADOR</td>\n",
       "      <td>0</td>\n",
       "      <td>1</td>\n",
       "    </tr>\n",
       "    <tr>\n",
       "      <th>11</th>\n",
       "      <td>2006</td>\n",
       "      <td>SENADOR</td>\n",
       "      <td>0</td>\n",
       "      <td>1</td>\n",
       "    </tr>\n",
       "    <tr>\n",
       "      <th>12</th>\n",
       "      <td>2010</td>\n",
       "      <td>DEPUTADO ESTADUAL</td>\n",
       "      <td>6</td>\n",
       "      <td>40</td>\n",
       "    </tr>\n",
       "    <tr>\n",
       "      <th>13</th>\n",
       "      <td>2010</td>\n",
       "      <td>DEPUTADO FEDERAL</td>\n",
       "      <td>1</td>\n",
       "      <td>21</td>\n",
       "    </tr>\n",
       "    <tr>\n",
       "      <th>14</th>\n",
       "      <td>2010</td>\n",
       "      <td>GOVERNADOR</td>\n",
       "      <td>0</td>\n",
       "      <td>1</td>\n",
       "    </tr>\n",
       "    <tr>\n",
       "      <th>15</th>\n",
       "      <td>2010</td>\n",
       "      <td>SENADOR</td>\n",
       "      <td>0</td>\n",
       "      <td>2</td>\n",
       "    </tr>\n",
       "    <tr>\n",
       "      <th>16</th>\n",
       "      <td>2014</td>\n",
       "      <td>DEPUTADO ESTADUAL</td>\n",
       "      <td>7</td>\n",
       "      <td>39</td>\n",
       "    </tr>\n",
       "    <tr>\n",
       "      <th>17</th>\n",
       "      <td>2014</td>\n",
       "      <td>DEPUTADO FEDERAL</td>\n",
       "      <td>2</td>\n",
       "      <td>20</td>\n",
       "    </tr>\n",
       "    <tr>\n",
       "      <th>18</th>\n",
       "      <td>2014</td>\n",
       "      <td>GOVERNADOR</td>\n",
       "      <td>0</td>\n",
       "      <td>1</td>\n",
       "    </tr>\n",
       "    <tr>\n",
       "      <th>19</th>\n",
       "      <td>2014</td>\n",
       "      <td>SENADOR</td>\n",
       "      <td>0</td>\n",
       "      <td>1</td>\n",
       "    </tr>\n",
       "    <tr>\n",
       "      <th>20</th>\n",
       "      <td>2018</td>\n",
       "      <td>DEPUTADO ESTADUAL</td>\n",
       "      <td>6</td>\n",
       "      <td>40</td>\n",
       "    </tr>\n",
       "    <tr>\n",
       "      <th>21</th>\n",
       "      <td>2018</td>\n",
       "      <td>DEPUTADO FEDERAL</td>\n",
       "      <td>1</td>\n",
       "      <td>21</td>\n",
       "    </tr>\n",
       "    <tr>\n",
       "      <th>22</th>\n",
       "      <td>2018</td>\n",
       "      <td>GOVERNADOR</td>\n",
       "      <td>0</td>\n",
       "      <td>1</td>\n",
       "    </tr>\n",
       "    <tr>\n",
       "      <th>23</th>\n",
       "      <td>2018</td>\n",
       "      <td>SENADOR</td>\n",
       "      <td>0</td>\n",
       "      <td>2</td>\n",
       "    </tr>\n",
       "  </tbody>\n",
       "</table>\n",
       "</div>"
      ],
      "text/plain": [
       "     Ano              Cargo  Mulheres Eleitas  Homens Eleitos\n",
       "0   1998  DEPUTADO ESTADUAL                 4              42\n",
       "1   1998   DEPUTADO FEDERAL                 0              22\n",
       "2   1998         GOVERNADOR                 0               1\n",
       "3   1998            SENADOR                 0               1\n",
       "4   2002  DEPUTADO ESTADUAL                 8              38\n",
       "5   2002   DEPUTADO FEDERAL                 0              22\n",
       "6   2002         GOVERNADOR                 0               1\n",
       "7   2002            SENADOR                 1               1\n",
       "8   2006  DEPUTADO ESTADUAL                 2              44\n",
       "9   2006   DEPUTADO FEDERAL                 1              21\n",
       "10  2006         GOVERNADOR                 0               1\n",
       "11  2006            SENADOR                 0               1\n",
       "12  2010  DEPUTADO ESTADUAL                 6              40\n",
       "13  2010   DEPUTADO FEDERAL                 1              21\n",
       "14  2010         GOVERNADOR                 0               1\n",
       "15  2010            SENADOR                 0               2\n",
       "16  2014  DEPUTADO ESTADUAL                 7              39\n",
       "17  2014   DEPUTADO FEDERAL                 2              20\n",
       "18  2014         GOVERNADOR                 0               1\n",
       "19  2014            SENADOR                 0               1\n",
       "20  2018  DEPUTADO ESTADUAL                 6              40\n",
       "21  2018   DEPUTADO FEDERAL                 1              21\n",
       "22  2018         GOVERNADOR                 0               1\n",
       "23  2018            SENADOR                 0               2"
      ]
     },
     "execution_count": 21,
     "metadata": {},
     "output_type": "execute_result"
    }
   ],
   "source": [
    "grupo = eleitos_ce.groupby(['ANO_ELEICAO','DESCRICAO_CARGO'])['DESCRICAO_SEXO'].value_counts()\n",
    "grupo = grupo.reset_index(name='Qtd')\n",
    "grupo = grupo.pivot(index=['ANO_ELEICAO','DESCRICAO_CARGO'],columns='DESCRICAO_SEXO',values='Qtd').fillna(0).reset_index()\n",
    "grupo\n",
    "grupo = grupo.astype({'FEMININO': 'int64', 'MASCULINO': 'int64'})\n",
    "\n",
    "grupo.columns = ['Ano','Cargo','Mulheres Eleitas', 'Homens Eleitos']\n",
    "\n",
    "grupo.to_csv('arquivos_gerados/prop_genero_ceara.csv', index=False)\n",
    "grupo"
   ]
  },
  {
   "cell_type": "code",
   "execution_count": 22,
   "metadata": {
    "colab": {
     "base_uri": "https://localhost:8080/",
     "height": 238
    },
    "id": "cjlfH4mR20AB",
    "outputId": "2c64f4d6-ade2-4708-eaa4-91a6d51062ab"
   },
   "outputs": [
    {
     "data": {
      "text/html": [
       "<div>\n",
       "<style scoped>\n",
       "    .dataframe tbody tr th:only-of-type {\n",
       "        vertical-align: middle;\n",
       "    }\n",
       "\n",
       "    .dataframe tbody tr th {\n",
       "        vertical-align: top;\n",
       "    }\n",
       "\n",
       "    .dataframe thead th {\n",
       "        text-align: right;\n",
       "    }\n",
       "</style>\n",
       "<table border=\"1\" class=\"dataframe\">\n",
       "  <thead>\n",
       "    <tr style=\"text-align: right;\">\n",
       "      <th>DESCRICAO_SEXO</th>\n",
       "      <th>ANO_ELEICAO</th>\n",
       "      <th>FEMININO</th>\n",
       "      <th>MASCULINO</th>\n",
       "    </tr>\n",
       "  </thead>\n",
       "  <tbody>\n",
       "    <tr>\n",
       "      <th>0</th>\n",
       "      <td>1998</td>\n",
       "      <td>4</td>\n",
       "      <td>66</td>\n",
       "    </tr>\n",
       "    <tr>\n",
       "      <th>1</th>\n",
       "      <td>2002</td>\n",
       "      <td>9</td>\n",
       "      <td>62</td>\n",
       "    </tr>\n",
       "    <tr>\n",
       "      <th>2</th>\n",
       "      <td>2006</td>\n",
       "      <td>3</td>\n",
       "      <td>67</td>\n",
       "    </tr>\n",
       "    <tr>\n",
       "      <th>3</th>\n",
       "      <td>2010</td>\n",
       "      <td>7</td>\n",
       "      <td>64</td>\n",
       "    </tr>\n",
       "    <tr>\n",
       "      <th>4</th>\n",
       "      <td>2014</td>\n",
       "      <td>9</td>\n",
       "      <td>61</td>\n",
       "    </tr>\n",
       "    <tr>\n",
       "      <th>5</th>\n",
       "      <td>2018</td>\n",
       "      <td>7</td>\n",
       "      <td>64</td>\n",
       "    </tr>\n",
       "  </tbody>\n",
       "</table>\n",
       "</div>"
      ],
      "text/plain": [
       "DESCRICAO_SEXO ANO_ELEICAO  FEMININO  MASCULINO\n",
       "0                     1998         4         66\n",
       "1                     2002         9         62\n",
       "2                     2006         3         67\n",
       "3                     2010         7         64\n",
       "4                     2014         9         61\n",
       "5                     2018         7         64"
      ]
     },
     "execution_count": 22,
     "metadata": {},
     "output_type": "execute_result"
    }
   ],
   "source": [
    "# Todos os Cargos: \n",
    "grupo = eleitos_ce.groupby(['ANO_ELEICAO'])['DESCRICAO_SEXO'].value_counts()\n",
    "grupo = grupo.reset_index(name='Qtd')\n",
    "grupo = grupo.pivot(index=['ANO_ELEICAO'],columns='DESCRICAO_SEXO',values='Qtd').fillna(0).reset_index()\n",
    "grupo"
   ]
  },
  {
   "cell_type": "markdown",
   "metadata": {
    "id": "vzh23X9j3TUo"
   },
   "source": [
    "### Percentual de mulheres eleitas no Brasil por Estado, Cargo e Eleição\n",
    "\n",
    "Mapa: https://observablehq.com/embed/@cajazeiraramos/infoviz-mulheres-no-poder?cells=datavizMap%2Cviewof+year2%2Cviewof+cb_cargos%2Clegenda_mapa%2Cfonte3"
   ]
  },
  {
   "cell_type": "code",
   "execution_count": 23,
   "metadata": {
    "colab": {
     "base_uri": "https://localhost:8080/",
     "height": 424
    },
    "id": "hcg83x1Q4rtr",
    "outputId": "25c9b1ff-a264-4b9e-c6d5-4678d871795e"
   },
   "outputs": [
    {
     "data": {
      "text/html": [
       "<div>\n",
       "<style scoped>\n",
       "    .dataframe tbody tr th:only-of-type {\n",
       "        vertical-align: middle;\n",
       "    }\n",
       "\n",
       "    .dataframe tbody tr th {\n",
       "        vertical-align: top;\n",
       "    }\n",
       "\n",
       "    .dataframe thead th {\n",
       "        text-align: right;\n",
       "    }\n",
       "</style>\n",
       "<table border=\"1\" class=\"dataframe\">\n",
       "  <thead>\n",
       "    <tr style=\"text-align: right;\">\n",
       "      <th></th>\n",
       "      <th>ANO_ELEICAO</th>\n",
       "      <th>SIGLA_UF</th>\n",
       "      <th>DESCRICAO_CARGO</th>\n",
       "      <th>DESCRICAO_SEXO</th>\n",
       "      <th>Qtd</th>\n",
       "    </tr>\n",
       "  </thead>\n",
       "  <tbody>\n",
       "    <tr>\n",
       "      <th>1</th>\n",
       "      <td>1998</td>\n",
       "      <td>AC</td>\n",
       "      <td>DEPUTADO ESTADUAL</td>\n",
       "      <td>FEMININO</td>\n",
       "      <td>0.083333</td>\n",
       "    </tr>\n",
       "    <tr>\n",
       "      <th>3</th>\n",
       "      <td>1998</td>\n",
       "      <td>AC</td>\n",
       "      <td>DEPUTADO FEDERAL</td>\n",
       "      <td>FEMININO</td>\n",
       "      <td>0.125000</td>\n",
       "    </tr>\n",
       "    <tr>\n",
       "      <th>7</th>\n",
       "      <td>1998</td>\n",
       "      <td>AL</td>\n",
       "      <td>DEPUTADO ESTADUAL</td>\n",
       "      <td>FEMININO</td>\n",
       "      <td>0.111111</td>\n",
       "    </tr>\n",
       "    <tr>\n",
       "      <th>9</th>\n",
       "      <td>1998</td>\n",
       "      <td>AL</td>\n",
       "      <td>DEPUTADO FEDERAL</td>\n",
       "      <td>FEMININO</td>\n",
       "      <td>0.111111</td>\n",
       "    </tr>\n",
       "    <tr>\n",
       "      <th>11</th>\n",
       "      <td>1998</td>\n",
       "      <td>AL</td>\n",
       "      <td>SENADOR</td>\n",
       "      <td>FEMININO</td>\n",
       "      <td>1.000000</td>\n",
       "    </tr>\n",
       "    <tr>\n",
       "      <th>...</th>\n",
       "      <td>...</td>\n",
       "      <td>...</td>\n",
       "      <td>...</td>\n",
       "      <td>...</td>\n",
       "      <td>...</td>\n",
       "    </tr>\n",
       "    <tr>\n",
       "      <th>954</th>\n",
       "      <td>2018</td>\n",
       "      <td>SP</td>\n",
       "      <td>DEPUTADO ESTADUAL</td>\n",
       "      <td>FEMININO</td>\n",
       "      <td>0.191489</td>\n",
       "    </tr>\n",
       "    <tr>\n",
       "      <th>956</th>\n",
       "      <td>2018</td>\n",
       "      <td>SP</td>\n",
       "      <td>DEPUTADO FEDERAL</td>\n",
       "      <td>FEMININO</td>\n",
       "      <td>0.157143</td>\n",
       "    </tr>\n",
       "    <tr>\n",
       "      <th>958</th>\n",
       "      <td>2018</td>\n",
       "      <td>SP</td>\n",
       "      <td>SENADOR</td>\n",
       "      <td>FEMININO</td>\n",
       "      <td>0.500000</td>\n",
       "    </tr>\n",
       "    <tr>\n",
       "      <th>961</th>\n",
       "      <td>2018</td>\n",
       "      <td>TO</td>\n",
       "      <td>DEPUTADO ESTADUAL</td>\n",
       "      <td>FEMININO</td>\n",
       "      <td>0.208333</td>\n",
       "    </tr>\n",
       "    <tr>\n",
       "      <th>963</th>\n",
       "      <td>2018</td>\n",
       "      <td>TO</td>\n",
       "      <td>DEPUTADO FEDERAL</td>\n",
       "      <td>FEMININO</td>\n",
       "      <td>0.250000</td>\n",
       "    </tr>\n",
       "  </tbody>\n",
       "</table>\n",
       "<p>335 rows × 5 columns</p>\n",
       "</div>"
      ],
      "text/plain": [
       "    ANO_ELEICAO SIGLA_UF    DESCRICAO_CARGO DESCRICAO_SEXO       Qtd\n",
       "1          1998       AC  DEPUTADO ESTADUAL       FEMININO  0.083333\n",
       "3          1998       AC   DEPUTADO FEDERAL       FEMININO  0.125000\n",
       "7          1998       AL  DEPUTADO ESTADUAL       FEMININO  0.111111\n",
       "9          1998       AL   DEPUTADO FEDERAL       FEMININO  0.111111\n",
       "11         1998       AL            SENADOR       FEMININO  1.000000\n",
       "..          ...      ...                ...            ...       ...\n",
       "954        2018       SP  DEPUTADO ESTADUAL       FEMININO  0.191489\n",
       "956        2018       SP   DEPUTADO FEDERAL       FEMININO  0.157143\n",
       "958        2018       SP            SENADOR       FEMININO  0.500000\n",
       "961        2018       TO  DEPUTADO ESTADUAL       FEMININO  0.208333\n",
       "963        2018       TO   DEPUTADO FEDERAL       FEMININO  0.250000\n",
       "\n",
       "[335 rows x 5 columns]"
      ]
     },
     "execution_count": 23,
     "metadata": {},
     "output_type": "execute_result"
    }
   ],
   "source": [
    "grupo = eleitos.groupby(['ANO_ELEICAO','SIGLA_UF','DESCRICAO_CARGO'])['DESCRICAO_SEXO'].value_counts(normalize=True)\n",
    "grupo = grupo.reset_index(name='Qtd')\n",
    "grupo = grupo.loc[grupo.DESCRICAO_SEXO == \"FEMININO\"]\n",
    "grupo.to_csv('arquivos_gerados/prop_genero_brasil_por_uf.csv', index=False)\n",
    "grupo"
   ]
  },
  {
   "cell_type": "markdown",
   "metadata": {
    "id": "AtZf_Saz3F-G"
   },
   "source": [
    "### Proporção entre homens e mulheres eleitas no Brasil, por Cargo/Eleição:\n",
    "\n",
    "Gráfico: https://public.flourish.studio/visualisation/9044760/"
   ]
  },
  {
   "cell_type": "code",
   "execution_count": 24,
   "metadata": {
    "colab": {
     "base_uri": "https://localhost:8080/",
     "height": 1000
    },
    "id": "hzIuxpCv3bRW",
    "outputId": "18a53efb-f80b-472b-fc3a-c28ff6064a89"
   },
   "outputs": [
    {
     "data": {
      "text/html": [
       "<div>\n",
       "<style scoped>\n",
       "    .dataframe tbody tr th:only-of-type {\n",
       "        vertical-align: middle;\n",
       "    }\n",
       "\n",
       "    .dataframe tbody tr th {\n",
       "        vertical-align: top;\n",
       "    }\n",
       "\n",
       "    .dataframe thead th {\n",
       "        text-align: right;\n",
       "    }\n",
       "</style>\n",
       "<table border=\"1\" class=\"dataframe\">\n",
       "  <thead>\n",
       "    <tr style=\"text-align: right;\">\n",
       "      <th></th>\n",
       "      <th>Ano</th>\n",
       "      <th>Cargo</th>\n",
       "      <th>Mulheres Eleitas</th>\n",
       "      <th>Homens Eleitos</th>\n",
       "    </tr>\n",
       "  </thead>\n",
       "  <tbody>\n",
       "    <tr>\n",
       "      <th>0</th>\n",
       "      <td>1998</td>\n",
       "      <td>DEPUTADO DISTRITAL</td>\n",
       "      <td>4</td>\n",
       "      <td>20</td>\n",
       "    </tr>\n",
       "    <tr>\n",
       "      <th>1</th>\n",
       "      <td>1998</td>\n",
       "      <td>DEPUTADO ESTADUAL</td>\n",
       "      <td>102</td>\n",
       "      <td>933</td>\n",
       "    </tr>\n",
       "    <tr>\n",
       "      <th>2</th>\n",
       "      <td>1998</td>\n",
       "      <td>DEPUTADO FEDERAL</td>\n",
       "      <td>29</td>\n",
       "      <td>484</td>\n",
       "    </tr>\n",
       "    <tr>\n",
       "      <th>3</th>\n",
       "      <td>1998</td>\n",
       "      <td>GOVERNADOR</td>\n",
       "      <td>1</td>\n",
       "      <td>26</td>\n",
       "    </tr>\n",
       "    <tr>\n",
       "      <th>4</th>\n",
       "      <td>1998</td>\n",
       "      <td>PRESIDENTE</td>\n",
       "      <td>0</td>\n",
       "      <td>1</td>\n",
       "    </tr>\n",
       "    <tr>\n",
       "      <th>5</th>\n",
       "      <td>1998</td>\n",
       "      <td>SENADOR</td>\n",
       "      <td>2</td>\n",
       "      <td>25</td>\n",
       "    </tr>\n",
       "    <tr>\n",
       "      <th>6</th>\n",
       "      <td>2002</td>\n",
       "      <td>DEPUTADO DISTRITAL</td>\n",
       "      <td>5</td>\n",
       "      <td>19</td>\n",
       "    </tr>\n",
       "    <tr>\n",
       "      <th>7</th>\n",
       "      <td>2002</td>\n",
       "      <td>DEPUTADO ESTADUAL</td>\n",
       "      <td>129</td>\n",
       "      <td>906</td>\n",
       "    </tr>\n",
       "    <tr>\n",
       "      <th>8</th>\n",
       "      <td>2002</td>\n",
       "      <td>DEPUTADO FEDERAL</td>\n",
       "      <td>42</td>\n",
       "      <td>471</td>\n",
       "    </tr>\n",
       "    <tr>\n",
       "      <th>9</th>\n",
       "      <td>2002</td>\n",
       "      <td>GOVERNADOR</td>\n",
       "      <td>2</td>\n",
       "      <td>25</td>\n",
       "    </tr>\n",
       "    <tr>\n",
       "      <th>10</th>\n",
       "      <td>2002</td>\n",
       "      <td>PRESIDENTE</td>\n",
       "      <td>0</td>\n",
       "      <td>1</td>\n",
       "    </tr>\n",
       "    <tr>\n",
       "      <th>11</th>\n",
       "      <td>2002</td>\n",
       "      <td>SENADOR</td>\n",
       "      <td>8</td>\n",
       "      <td>46</td>\n",
       "    </tr>\n",
       "    <tr>\n",
       "      <th>12</th>\n",
       "      <td>2006</td>\n",
       "      <td>DEPUTADO DISTRITAL</td>\n",
       "      <td>3</td>\n",
       "      <td>21</td>\n",
       "    </tr>\n",
       "    <tr>\n",
       "      <th>13</th>\n",
       "      <td>2006</td>\n",
       "      <td>DEPUTADO ESTADUAL</td>\n",
       "      <td>121</td>\n",
       "      <td>914</td>\n",
       "    </tr>\n",
       "    <tr>\n",
       "      <th>14</th>\n",
       "      <td>2006</td>\n",
       "      <td>DEPUTADO FEDERAL</td>\n",
       "      <td>45</td>\n",
       "      <td>468</td>\n",
       "    </tr>\n",
       "    <tr>\n",
       "      <th>15</th>\n",
       "      <td>2006</td>\n",
       "      <td>GOVERNADOR</td>\n",
       "      <td>3</td>\n",
       "      <td>24</td>\n",
       "    </tr>\n",
       "    <tr>\n",
       "      <th>16</th>\n",
       "      <td>2006</td>\n",
       "      <td>PRESIDENTE</td>\n",
       "      <td>0</td>\n",
       "      <td>1</td>\n",
       "    </tr>\n",
       "    <tr>\n",
       "      <th>17</th>\n",
       "      <td>2006</td>\n",
       "      <td>SENADOR</td>\n",
       "      <td>4</td>\n",
       "      <td>23</td>\n",
       "    </tr>\n",
       "    <tr>\n",
       "      <th>18</th>\n",
       "      <td>2010</td>\n",
       "      <td>DEPUTADO DISTRITAL</td>\n",
       "      <td>4</td>\n",
       "      <td>20</td>\n",
       "    </tr>\n",
       "    <tr>\n",
       "      <th>19</th>\n",
       "      <td>2010</td>\n",
       "      <td>DEPUTADO ESTADUAL</td>\n",
       "      <td>134</td>\n",
       "      <td>901</td>\n",
       "    </tr>\n",
       "    <tr>\n",
       "      <th>20</th>\n",
       "      <td>2010</td>\n",
       "      <td>DEPUTADO FEDERAL</td>\n",
       "      <td>45</td>\n",
       "      <td>468</td>\n",
       "    </tr>\n",
       "    <tr>\n",
       "      <th>21</th>\n",
       "      <td>2010</td>\n",
       "      <td>GOVERNADOR</td>\n",
       "      <td>2</td>\n",
       "      <td>25</td>\n",
       "    </tr>\n",
       "    <tr>\n",
       "      <th>22</th>\n",
       "      <td>2010</td>\n",
       "      <td>PRESIDENTE</td>\n",
       "      <td>1</td>\n",
       "      <td>0</td>\n",
       "    </tr>\n",
       "    <tr>\n",
       "      <th>23</th>\n",
       "      <td>2010</td>\n",
       "      <td>SENADOR</td>\n",
       "      <td>7</td>\n",
       "      <td>47</td>\n",
       "    </tr>\n",
       "    <tr>\n",
       "      <th>24</th>\n",
       "      <td>2014</td>\n",
       "      <td>DEPUTADO DISTRITAL</td>\n",
       "      <td>5</td>\n",
       "      <td>19</td>\n",
       "    </tr>\n",
       "    <tr>\n",
       "      <th>25</th>\n",
       "      <td>2014</td>\n",
       "      <td>DEPUTADO ESTADUAL</td>\n",
       "      <td>114</td>\n",
       "      <td>921</td>\n",
       "    </tr>\n",
       "    <tr>\n",
       "      <th>26</th>\n",
       "      <td>2014</td>\n",
       "      <td>DEPUTADO FEDERAL</td>\n",
       "      <td>51</td>\n",
       "      <td>462</td>\n",
       "    </tr>\n",
       "    <tr>\n",
       "      <th>27</th>\n",
       "      <td>2014</td>\n",
       "      <td>GOVERNADOR</td>\n",
       "      <td>1</td>\n",
       "      <td>27</td>\n",
       "    </tr>\n",
       "    <tr>\n",
       "      <th>28</th>\n",
       "      <td>2014</td>\n",
       "      <td>PRESIDENTE</td>\n",
       "      <td>1</td>\n",
       "      <td>0</td>\n",
       "    </tr>\n",
       "    <tr>\n",
       "      <th>29</th>\n",
       "      <td>2014</td>\n",
       "      <td>SENADOR</td>\n",
       "      <td>5</td>\n",
       "      <td>22</td>\n",
       "    </tr>\n",
       "    <tr>\n",
       "      <th>30</th>\n",
       "      <td>2018</td>\n",
       "      <td>DEPUTADO DISTRITAL</td>\n",
       "      <td>3</td>\n",
       "      <td>21</td>\n",
       "    </tr>\n",
       "    <tr>\n",
       "      <th>31</th>\n",
       "      <td>2018</td>\n",
       "      <td>DEPUTADO ESTADUAL</td>\n",
       "      <td>160</td>\n",
       "      <td>875</td>\n",
       "    </tr>\n",
       "    <tr>\n",
       "      <th>32</th>\n",
       "      <td>2018</td>\n",
       "      <td>DEPUTADO FEDERAL</td>\n",
       "      <td>77</td>\n",
       "      <td>436</td>\n",
       "    </tr>\n",
       "    <tr>\n",
       "      <th>33</th>\n",
       "      <td>2018</td>\n",
       "      <td>GOVERNADOR</td>\n",
       "      <td>1</td>\n",
       "      <td>26</td>\n",
       "    </tr>\n",
       "    <tr>\n",
       "      <th>34</th>\n",
       "      <td>2018</td>\n",
       "      <td>PRESIDENTE</td>\n",
       "      <td>0</td>\n",
       "      <td>1</td>\n",
       "    </tr>\n",
       "    <tr>\n",
       "      <th>35</th>\n",
       "      <td>2018</td>\n",
       "      <td>SENADOR</td>\n",
       "      <td>7</td>\n",
       "      <td>47</td>\n",
       "    </tr>\n",
       "  </tbody>\n",
       "</table>\n",
       "</div>"
      ],
      "text/plain": [
       "     Ano               Cargo  Mulheres Eleitas  Homens Eleitos\n",
       "0   1998  DEPUTADO DISTRITAL                 4              20\n",
       "1   1998   DEPUTADO ESTADUAL               102             933\n",
       "2   1998    DEPUTADO FEDERAL                29             484\n",
       "3   1998          GOVERNADOR                 1              26\n",
       "4   1998          PRESIDENTE                 0               1\n",
       "5   1998             SENADOR                 2              25\n",
       "6   2002  DEPUTADO DISTRITAL                 5              19\n",
       "7   2002   DEPUTADO ESTADUAL               129             906\n",
       "8   2002    DEPUTADO FEDERAL                42             471\n",
       "9   2002          GOVERNADOR                 2              25\n",
       "10  2002          PRESIDENTE                 0               1\n",
       "11  2002             SENADOR                 8              46\n",
       "12  2006  DEPUTADO DISTRITAL                 3              21\n",
       "13  2006   DEPUTADO ESTADUAL               121             914\n",
       "14  2006    DEPUTADO FEDERAL                45             468\n",
       "15  2006          GOVERNADOR                 3              24\n",
       "16  2006          PRESIDENTE                 0               1\n",
       "17  2006             SENADOR                 4              23\n",
       "18  2010  DEPUTADO DISTRITAL                 4              20\n",
       "19  2010   DEPUTADO ESTADUAL               134             901\n",
       "20  2010    DEPUTADO FEDERAL                45             468\n",
       "21  2010          GOVERNADOR                 2              25\n",
       "22  2010          PRESIDENTE                 1               0\n",
       "23  2010             SENADOR                 7              47\n",
       "24  2014  DEPUTADO DISTRITAL                 5              19\n",
       "25  2014   DEPUTADO ESTADUAL               114             921\n",
       "26  2014    DEPUTADO FEDERAL                51             462\n",
       "27  2014          GOVERNADOR                 1              27\n",
       "28  2014          PRESIDENTE                 1               0\n",
       "29  2014             SENADOR                 5              22\n",
       "30  2018  DEPUTADO DISTRITAL                 3              21\n",
       "31  2018   DEPUTADO ESTADUAL               160             875\n",
       "32  2018    DEPUTADO FEDERAL                77             436\n",
       "33  2018          GOVERNADOR                 1              26\n",
       "34  2018          PRESIDENTE                 0               1\n",
       "35  2018             SENADOR                 7              47"
      ]
     },
     "execution_count": 24,
     "metadata": {},
     "output_type": "execute_result"
    }
   ],
   "source": [
    "grupo = eleitos.groupby(['ANO_ELEICAO','DESCRICAO_CARGO'])['DESCRICAO_SEXO'].value_counts()\n",
    "grupo = grupo.reset_index(name='Qtd')\n",
    "grupo = grupo.pivot(index=['ANO_ELEICAO','DESCRICAO_CARGO'],columns='DESCRICAO_SEXO',values='Qtd').fillna(0).reset_index()\n",
    "grupo\n",
    "grupo = grupo.astype({'FEMININO': 'int64', 'MASCULINO': 'int64'})\n",
    "\n",
    "grupo.columns = ['Ano','Cargo','Mulheres Eleitas', 'Homens Eleitos']\n",
    "\n",
    "grupo.to_csv('arquivos_gerados/prop_genero_brasil.csv', index=False)\n",
    "grupo"
   ]
  },
  {
   "cell_type": "code",
   "execution_count": 25,
   "metadata": {
    "colab": {
     "base_uri": "https://localhost:8080/",
     "height": 238
    },
    "id": "d2PuAQJ931WZ",
    "outputId": "9dcfc738-38fa-4bd9-da0b-c06cee8716d1"
   },
   "outputs": [
    {
     "data": {
      "text/html": [
       "<div>\n",
       "<style scoped>\n",
       "    .dataframe tbody tr th:only-of-type {\n",
       "        vertical-align: middle;\n",
       "    }\n",
       "\n",
       "    .dataframe tbody tr th {\n",
       "        vertical-align: top;\n",
       "    }\n",
       "\n",
       "    .dataframe thead th {\n",
       "        text-align: right;\n",
       "    }\n",
       "</style>\n",
       "<table border=\"1\" class=\"dataframe\">\n",
       "  <thead>\n",
       "    <tr style=\"text-align: right;\">\n",
       "      <th>DESCRICAO_SEXO</th>\n",
       "      <th>ANO_ELEICAO</th>\n",
       "      <th>FEMININO</th>\n",
       "      <th>MASCULINO</th>\n",
       "    </tr>\n",
       "  </thead>\n",
       "  <tbody>\n",
       "    <tr>\n",
       "      <th>0</th>\n",
       "      <td>1998</td>\n",
       "      <td>138</td>\n",
       "      <td>1489</td>\n",
       "    </tr>\n",
       "    <tr>\n",
       "      <th>1</th>\n",
       "      <td>2002</td>\n",
       "      <td>186</td>\n",
       "      <td>1468</td>\n",
       "    </tr>\n",
       "    <tr>\n",
       "      <th>2</th>\n",
       "      <td>2006</td>\n",
       "      <td>176</td>\n",
       "      <td>1451</td>\n",
       "    </tr>\n",
       "    <tr>\n",
       "      <th>3</th>\n",
       "      <td>2010</td>\n",
       "      <td>193</td>\n",
       "      <td>1461</td>\n",
       "    </tr>\n",
       "    <tr>\n",
       "      <th>4</th>\n",
       "      <td>2014</td>\n",
       "      <td>177</td>\n",
       "      <td>1451</td>\n",
       "    </tr>\n",
       "    <tr>\n",
       "      <th>5</th>\n",
       "      <td>2018</td>\n",
       "      <td>248</td>\n",
       "      <td>1406</td>\n",
       "    </tr>\n",
       "  </tbody>\n",
       "</table>\n",
       "</div>"
      ],
      "text/plain": [
       "DESCRICAO_SEXO ANO_ELEICAO  FEMININO  MASCULINO\n",
       "0                     1998       138       1489\n",
       "1                     2002       186       1468\n",
       "2                     2006       176       1451\n",
       "3                     2010       193       1461\n",
       "4                     2014       177       1451\n",
       "5                     2018       248       1406"
      ]
     },
     "execution_count": 25,
     "metadata": {},
     "output_type": "execute_result"
    }
   ],
   "source": [
    "# Todos os Cargos: \n",
    "grupo = eleitos.groupby(['ANO_ELEICAO'])['DESCRICAO_SEXO'].value_counts()\n",
    "grupo = grupo.reset_index(name='Qtd')\n",
    "grupo = grupo.pivot(index=['ANO_ELEICAO'],columns='DESCRICAO_SEXO',values='Qtd').fillna(0).reset_index()\n",
    "grupo"
   ]
  },
  {
   "cell_type": "markdown",
   "metadata": {
    "id": "j7LmiBR4AOLn"
   },
   "source": [
    "### Percentual de mulheres entre candidatos e eleitos no Ceará, por eleição\n",
    "\n",
    "Gráfico: https://public.flourish.studio/visualisation/9298839/"
   ]
  },
  {
   "cell_type": "code",
   "execution_count": 26,
   "metadata": {
    "colab": {
     "base_uri": "https://localhost:8080/",
     "height": 269
    },
    "id": "5-v_mecCAPqO",
    "outputId": "bc062309-eaea-41d0-9bf7-8abb97b0a06a"
   },
   "outputs": [
    {
     "data": {
      "text/html": [
       "<div>\n",
       "<style scoped>\n",
       "    .dataframe tbody tr th:only-of-type {\n",
       "        vertical-align: middle;\n",
       "    }\n",
       "\n",
       "    .dataframe tbody tr th {\n",
       "        vertical-align: top;\n",
       "    }\n",
       "\n",
       "    .dataframe thead th {\n",
       "        text-align: right;\n",
       "    }\n",
       "</style>\n",
       "<table border=\"1\" class=\"dataframe\">\n",
       "  <thead>\n",
       "    <tr style=\"text-align: right;\">\n",
       "      <th></th>\n",
       "      <th>(%) de Mulheres entre Eleitos</th>\n",
       "      <th>(%) de Mulheres entre Candidaturas</th>\n",
       "    </tr>\n",
       "    <tr>\n",
       "      <th>ANO_ELEICAO</th>\n",
       "      <th></th>\n",
       "      <th></th>\n",
       "    </tr>\n",
       "  </thead>\n",
       "  <tbody>\n",
       "    <tr>\n",
       "      <th>1998</th>\n",
       "      <td>5.71</td>\n",
       "      <td>-10.75</td>\n",
       "    </tr>\n",
       "    <tr>\n",
       "      <th>2002</th>\n",
       "      <td>12.68</td>\n",
       "      <td>-15.77</td>\n",
       "    </tr>\n",
       "    <tr>\n",
       "      <th>2006</th>\n",
       "      <td>4.29</td>\n",
       "      <td>-15.19</td>\n",
       "    </tr>\n",
       "    <tr>\n",
       "      <th>2010</th>\n",
       "      <td>9.86</td>\n",
       "      <td>-30.67</td>\n",
       "    </tr>\n",
       "    <tr>\n",
       "      <th>2014</th>\n",
       "      <td>12.86</td>\n",
       "      <td>-32.70</td>\n",
       "    </tr>\n",
       "    <tr>\n",
       "      <th>2018</th>\n",
       "      <td>9.86</td>\n",
       "      <td>-32.96</td>\n",
       "    </tr>\n",
       "  </tbody>\n",
       "</table>\n",
       "</div>"
      ],
      "text/plain": [
       "             (%) de Mulheres entre Eleitos  (%) de Mulheres entre Candidaturas\n",
       "ANO_ELEICAO                                                                   \n",
       "1998                                  5.71                              -10.75\n",
       "2002                                 12.68                              -15.77\n",
       "2006                                  4.29                              -15.19\n",
       "2010                                  9.86                              -30.67\n",
       "2014                                 12.86                              -32.70\n",
       "2018                                  9.86                              -32.96"
      ]
     },
     "execution_count": 26,
     "metadata": {},
     "output_type": "execute_result"
    }
   ],
   "source": [
    "grupo = dados.loc[dados.SIGLA_UF==\"CE\"].groupby(['ANO_ELEICAO','resultado'])['DESCRICAO_SEXO'].value_counts(normalize=True)\n",
    "grupo = grupo.reset_index(name='Pct')\n",
    "grupo['Pct'] = round(grupo['Pct']*100,2)\n",
    "grupo = grupo.loc[grupo.DESCRICAO_SEXO == 'FEMININO'].filter(['ANO_ELEICAO','resultado','Pct'])\n",
    "grupo = grupo.pivot(index=\"ANO_ELEICAO\",columns='resultado',values='Pct')\n",
    "grupo['Não Eleito'] = -grupo['Não Eleito'] #Valores negativos para o tipo de gráfico\n",
    "grupo.columns = ['(%) de Mulheres entre Eleitos','(%) de Mulheres entre Candidaturas']\n",
    "grupo.to_csv('arquivos_gerados/prop_mulheres_candidatos_eleitos_ceara.csv')\n",
    "grupo"
   ]
  },
  {
   "cell_type": "markdown",
   "metadata": {
    "id": "R77dpGF26d5L"
   },
   "source": [
    "### Distribuição da Raça/Cor das mulheres candidatas e eleitas no Brasil em 2018\n",
    "\n",
    "Gráfico: https://public.flourish.studio/visualisation/9287731/"
   ]
  },
  {
   "cell_type": "code",
   "execution_count": 27,
   "metadata": {
    "colab": {
     "base_uri": "https://localhost:8080/",
     "height": 112
    },
    "id": "doW37SN_7Q_K",
    "outputId": "b271321c-8979-4a58-c3a3-24f62f7e11e3"
   },
   "outputs": [
    {
     "data": {
      "text/html": [
       "<div>\n",
       "<style scoped>\n",
       "    .dataframe tbody tr th:only-of-type {\n",
       "        vertical-align: middle;\n",
       "    }\n",
       "\n",
       "    .dataframe tbody tr th {\n",
       "        vertical-align: top;\n",
       "    }\n",
       "\n",
       "    .dataframe thead th {\n",
       "        text-align: right;\n",
       "    }\n",
       "</style>\n",
       "<table border=\"1\" class=\"dataframe\">\n",
       "  <thead>\n",
       "    <tr style=\"text-align: right;\">\n",
       "      <th>Cor/Raça</th>\n",
       "      <th>BRANCA</th>\n",
       "      <th>PARDA</th>\n",
       "      <th>PRETA</th>\n",
       "      <th>INDÍGENA</th>\n",
       "    </tr>\n",
       "  </thead>\n",
       "  <tbody>\n",
       "    <tr>\n",
       "      <th>Todas as candidatas</th>\n",
       "      <td>4521</td>\n",
       "      <td>3097</td>\n",
       "      <td>1193</td>\n",
       "      <td>44</td>\n",
       "    </tr>\n",
       "    <tr>\n",
       "      <th>Mulheres Eleitas</th>\n",
       "      <td>181</td>\n",
       "      <td>47</td>\n",
       "      <td>19</td>\n",
       "      <td>1</td>\n",
       "    </tr>\n",
       "  </tbody>\n",
       "</table>\n",
       "</div>"
      ],
      "text/plain": [
       "Cor/Raça             BRANCA  PARDA  PRETA  INDÍGENA\n",
       "Todas as candidatas    4521   3097   1193        44\n",
       "Mulheres Eleitas        181     47     19         1"
      ]
     },
     "execution_count": 27,
     "metadata": {},
     "output_type": "execute_result"
    }
   ],
   "source": [
    "grupo_geral = mulheres_2018['DESCRICAO_COR_RACA'].value_counts().reset_index()\n",
    "grupo_eleitas = mulheres_2018_eleitas['DESCRICAO_COR_RACA'].value_counts().reset_index()\n",
    "grupo = pd.merge(grupo_geral, grupo_eleitas, on=\"index\")\n",
    "grupo.columns = ['Cor/Raça','Todas as candidatas','Mulheres Eleitas']\n",
    "grupo.set_index('Cor/Raça',inplace=True)\n",
    "grupo = grupo.T\n",
    "grupo.to_csv('arquivos_gerados/raca_cor_mulheres_br.csv')\n",
    "grupo"
   ]
  },
  {
   "cell_type": "markdown",
   "metadata": {
    "id": "xZcphode6fzl"
   },
   "source": [
    "### Escolaridade das Mulheres eleitas no Ceará\n",
    "Gráfico: https://public.flourish.studio/visualisation/9290164/ "
   ]
  },
  {
   "cell_type": "code",
   "execution_count": 28,
   "metadata": {
    "colab": {
     "base_uri": "https://localhost:8080/",
     "height": 238
    },
    "id": "e5nULa4v8Teb",
    "outputId": "061823fa-d3b9-4152-f3d2-fbd2948ca428"
   },
   "outputs": [
    {
     "data": {
      "text/html": [
       "<div>\n",
       "<style scoped>\n",
       "    .dataframe tbody tr th:only-of-type {\n",
       "        vertical-align: middle;\n",
       "    }\n",
       "\n",
       "    .dataframe tbody tr th {\n",
       "        vertical-align: top;\n",
       "    }\n",
       "\n",
       "    .dataframe thead th {\n",
       "        text-align: right;\n",
       "    }\n",
       "</style>\n",
       "<table border=\"1\" class=\"dataframe\">\n",
       "  <thead>\n",
       "    <tr style=\"text-align: right;\">\n",
       "      <th>escolaridade</th>\n",
       "      <th>ANO_ELEICAO</th>\n",
       "      <th>Médio</th>\n",
       "      <th>Superior</th>\n",
       "    </tr>\n",
       "  </thead>\n",
       "  <tbody>\n",
       "    <tr>\n",
       "      <th>0</th>\n",
       "      <td>1998</td>\n",
       "      <td>0</td>\n",
       "      <td>4</td>\n",
       "    </tr>\n",
       "    <tr>\n",
       "      <th>1</th>\n",
       "      <td>2002</td>\n",
       "      <td>1</td>\n",
       "      <td>8</td>\n",
       "    </tr>\n",
       "    <tr>\n",
       "      <th>2</th>\n",
       "      <td>2006</td>\n",
       "      <td>0</td>\n",
       "      <td>3</td>\n",
       "    </tr>\n",
       "    <tr>\n",
       "      <th>3</th>\n",
       "      <td>2010</td>\n",
       "      <td>0</td>\n",
       "      <td>7</td>\n",
       "    </tr>\n",
       "    <tr>\n",
       "      <th>4</th>\n",
       "      <td>2014</td>\n",
       "      <td>1</td>\n",
       "      <td>8</td>\n",
       "    </tr>\n",
       "    <tr>\n",
       "      <th>5</th>\n",
       "      <td>2018</td>\n",
       "      <td>1</td>\n",
       "      <td>6</td>\n",
       "    </tr>\n",
       "  </tbody>\n",
       "</table>\n",
       "</div>"
      ],
      "text/plain": [
       "escolaridade ANO_ELEICAO  Médio  Superior\n",
       "0                   1998      0         4\n",
       "1                   2002      1         8\n",
       "2                   2006      0         3\n",
       "3                   2010      0         7\n",
       "4                   2014      1         8\n",
       "5                   2018      1         6"
      ]
     },
     "execution_count": 28,
     "metadata": {},
     "output_type": "execute_result"
    }
   ],
   "source": [
    "grupo = eleitas_ce.groupby(['ANO_ELEICAO'])['escolaridade'].value_counts()\n",
    "grupo = grupo.reset_index(name='Qtd')\n",
    "grupo = grupo.pivot(index=['ANO_ELEICAO'],columns='escolaridade',values='Qtd').fillna(0).reset_index()\n",
    "grupo = grupo.astype({\n",
    "                        'Médio': 'int64',\n",
    "                        'Superior': 'int64'\n",
    "                      })\n",
    "grupo.to_csv('arquivos_gerados/esc_eleitas_ce.csv', index=False)\n",
    "grupo"
   ]
  },
  {
   "cell_type": "markdown",
   "metadata": {
    "id": "B2fdt6FFsZgI"
   },
   "source": [
    "### Eleitas no Ceará, em 2018:"
   ]
  },
  {
   "cell_type": "code",
   "execution_count": 29,
   "metadata": {
    "id": "V-rAmqgYrhfV"
   },
   "outputs": [],
   "source": [
    "eleitas_ce_2018 = dados.loc[\n",
    "                            (dados.SIGLA_UF == 'CE') \n",
    "                            & (dados.ANO_ELEICAO == '2018') \n",
    "                            & (dados.DESCRICAO_SEXO == 'FEMININO')\n",
    "                            & (dados.resultado == 'Eleito')\n",
    "                          ]\n",
    "                        \n",
    "eleitas_ce_2018 = eleitas_ce_2018.filter(colunas)"
   ]
  },
  {
   "cell_type": "code",
   "execution_count": 30,
   "metadata": {
    "colab": {
     "base_uri": "https://localhost:8080/"
    },
    "id": "Tkx3yLzNsgQ5",
    "outputId": "d0012ae1-92d4-4bac-d402-5b25aaba909e"
   },
   "outputs": [
    {
     "data": {
      "text/plain": [
       "['LUIZIANNE DE OLIVEIRA LINS',\n",
       " 'SILVANA OLIVEIRA DE SOUSA',\n",
       " 'FERNANDA ENEIDA PESSOA CARACAS DE SOUZA',\n",
       " 'ÉRIKA GONÇALVES AMORIM',\n",
       " 'PATRÍCIA PEQUENO COSTA GOMES DE AGUIAR',\n",
       " 'AUGUSTA BRITO DE PAULA',\n",
       " 'MARIA ADERLANIA SOARES BARRETO NORONHA']"
      ]
     },
     "execution_count": 30,
     "metadata": {},
     "output_type": "execute_result"
    }
   ],
   "source": [
    "eleitas_ce_2018['NOME_CANDIDATO'].to_list()"
   ]
  },
  {
   "cell_type": "code",
   "execution_count": 31,
   "metadata": {
    "colab": {
     "base_uri": "https://localhost:8080/"
    },
    "id": "u2j3sdR0shvs",
    "outputId": "64a11957-c3e5-4a06-df3b-e296c9e7e536"
   },
   "outputs": [
    {
     "data": {
      "text/plain": [
       "BRANCA    1.0\n",
       "Name: DESCRICAO_COR_RACA, dtype: float64"
      ]
     },
     "execution_count": 31,
     "metadata": {},
     "output_type": "execute_result"
    }
   ],
   "source": [
    "eleitas_ce_2018['DESCRICAO_COR_RACA'].value_counts(normalize=True)"
   ]
  },
  {
   "cell_type": "code",
   "execution_count": 32,
   "metadata": {
    "colab": {
     "base_uri": "https://localhost:8080/"
    },
    "id": "qEsIrizSsmNZ",
    "outputId": "ba9406f3-3d23-40b9-a451-ddc564d6e49a"
   },
   "outputs": [
    {
     "data": {
      "text/plain": [
       "DEPUTADO ESTADUAL    6\n",
       "DEPUTADO FEDERAL     1\n",
       "Name: DESCRICAO_CARGO, dtype: int64"
      ]
     },
     "execution_count": 32,
     "metadata": {},
     "output_type": "execute_result"
    }
   ],
   "source": [
    "eleitas_ce_2018['DESCRICAO_CARGO'].value_counts()"
   ]
  },
  {
   "cell_type": "code",
   "execution_count": 33,
   "metadata": {
    "id": "Z45jdVw4ssQK"
   },
   "outputs": [],
   "source": [
    "eleitas_ce_2018.to_csv('arquivos_gerados/eleitas_ce_2018.csv')"
   ]
  },
  {
   "cell_type": "markdown",
   "metadata": {
    "id": "Y5ApN12Es8or"
   },
   "source": [
    "### Candidatas ao cargo de Senador, pelo Ceará, entre 1998 e 2018"
   ]
  },
  {
   "cell_type": "code",
   "execution_count": 34,
   "metadata": {
    "id": "5j4mXuYYtB9A"
   },
   "outputs": [],
   "source": [
    "candidatas_senador_ce = dados.loc[(dados.SIGLA_UF == 'CE') & (dados.DESCRICAO_CARGO == 'SENADOR') & (dados.DESCRICAO_SEXO == 'FEMININO')]\n",
    "candidatas_senador_ce = candidatas_senador_ce.filter(colunas)"
   ]
  },
  {
   "cell_type": "code",
   "execution_count": 35,
   "metadata": {
    "colab": {
     "base_uri": "https://localhost:8080/",
     "height": 300
    },
    "id": "QQZxufQctLws",
    "outputId": "7559780e-76d1-42d4-aa3e-30100087229e"
   },
   "outputs": [
    {
     "data": {
      "text/html": [
       "<div>\n",
       "<style scoped>\n",
       "    .dataframe tbody tr th:only-of-type {\n",
       "        vertical-align: middle;\n",
       "    }\n",
       "\n",
       "    .dataframe tbody tr th {\n",
       "        vertical-align: top;\n",
       "    }\n",
       "\n",
       "    .dataframe thead th {\n",
       "        text-align: right;\n",
       "    }\n",
       "</style>\n",
       "<table border=\"1\" class=\"dataframe\">\n",
       "  <thead>\n",
       "    <tr style=\"text-align: right;\">\n",
       "      <th></th>\n",
       "      <th>NOME_CANDIDATO</th>\n",
       "      <th>SIGLA_PARTIDO</th>\n",
       "      <th>ANO_ELEICAO</th>\n",
       "      <th>resultado</th>\n",
       "    </tr>\n",
       "  </thead>\n",
       "  <tbody>\n",
       "    <tr>\n",
       "      <th>45</th>\n",
       "      <td>PATRÍCIA LÚCIA SABOYA FERREIRA GOMES</td>\n",
       "      <td>PPS</td>\n",
       "      <td>2002</td>\n",
       "      <td>Eleito</td>\n",
       "    </tr>\n",
       "    <tr>\n",
       "      <th>43</th>\n",
       "      <td>MARIA NAIR FERNANDES SILVA</td>\n",
       "      <td>PDT</td>\n",
       "      <td>2006</td>\n",
       "      <td>Não Eleito</td>\n",
       "    </tr>\n",
       "    <tr>\n",
       "      <th>46</th>\n",
       "      <td>RAQUEL DIAS ARAUJO</td>\n",
       "      <td>PSTU</td>\n",
       "      <td>2010</td>\n",
       "      <td>Não Eleito</td>\n",
       "    </tr>\n",
       "    <tr>\n",
       "      <th>53</th>\n",
       "      <td>MARILENE TORRES DE VASCONCELOS</td>\n",
       "      <td>PSOL</td>\n",
       "      <td>2010</td>\n",
       "      <td>Não Eleito</td>\n",
       "    </tr>\n",
       "    <tr>\n",
       "      <th>33</th>\n",
       "      <td>RAQUEL DIAS ARAUJO</td>\n",
       "      <td>PSTU</td>\n",
       "      <td>2014</td>\n",
       "      <td>Não Eleito</td>\n",
       "    </tr>\n",
       "    <tr>\n",
       "      <th>34</th>\n",
       "      <td>GEOVANA MARIA CARTAXO DE ARRUDA FREIRE</td>\n",
       "      <td>PSB</td>\n",
       "      <td>2014</td>\n",
       "      <td>Não Eleito</td>\n",
       "    </tr>\n",
       "    <tr>\n",
       "      <th>56</th>\n",
       "      <td>MAYRA ISABEL CORREIA PINHEIRO</td>\n",
       "      <td>PSDB</td>\n",
       "      <td>2018</td>\n",
       "      <td>Não Eleito</td>\n",
       "    </tr>\n",
       "    <tr>\n",
       "      <th>58</th>\n",
       "      <td>ANNA KARINA CAVALCANTE DE OLIVEIRA</td>\n",
       "      <td>PSOL</td>\n",
       "      <td>2018</td>\n",
       "      <td>Não Eleito</td>\n",
       "    </tr>\n",
       "  </tbody>\n",
       "</table>\n",
       "</div>"
      ],
      "text/plain": [
       "                            NOME_CANDIDATO SIGLA_PARTIDO ANO_ELEICAO  \\\n",
       "45    PATRÍCIA LÚCIA SABOYA FERREIRA GOMES           PPS        2002   \n",
       "43              MARIA NAIR FERNANDES SILVA           PDT        2006   \n",
       "46                      RAQUEL DIAS ARAUJO          PSTU        2010   \n",
       "53          MARILENE TORRES DE VASCONCELOS          PSOL        2010   \n",
       "33                      RAQUEL DIAS ARAUJO          PSTU        2014   \n",
       "34  GEOVANA MARIA CARTAXO DE ARRUDA FREIRE           PSB        2014   \n",
       "56           MAYRA ISABEL CORREIA PINHEIRO          PSDB        2018   \n",
       "58      ANNA KARINA CAVALCANTE DE OLIVEIRA          PSOL        2018   \n",
       "\n",
       "     resultado  \n",
       "45      Eleito  \n",
       "43  Não Eleito  \n",
       "46  Não Eleito  \n",
       "53  Não Eleito  \n",
       "33  Não Eleito  \n",
       "34  Não Eleito  \n",
       "56  Não Eleito  \n",
       "58  Não Eleito  "
      ]
     },
     "execution_count": 35,
     "metadata": {},
     "output_type": "execute_result"
    }
   ],
   "source": [
    "candidatas_senador_ce.filter(['NOME_CANDIDATO','SIGLA_PARTIDO','ANO_ELEICAO','resultado'])"
   ]
  }
 ],
 "metadata": {
  "colab": {
   "name": "InfoViz Mulheres no Poder.ipynb",
   "provenance": []
  },
  "kernelspec": {
   "display_name": "Python 3",
   "language": "python",
   "name": "python3"
  },
  "language_info": {
   "codemirror_mode": {
    "name": "ipython",
    "version": 3
   },
   "file_extension": ".py",
   "mimetype": "text/x-python",
   "name": "python",
   "nbconvert_exporter": "python",
   "pygments_lexer": "ipython3",
   "version": "3.7.10"
  }
 },
 "nbformat": 4,
 "nbformat_minor": 1
}
